{
 "cells": [
  {
   "cell_type": "code",
   "execution_count": 11,
   "metadata": {},
   "outputs": [
    {
     "name": "stdout",
     "output_type": "stream",
     "text": [
      "11 3 45 6 \n",
      "54 3 78 2 \n",
      "5 2 \n",
      "45 23 4 2 \n"
     ]
    }
   ],
   "source": [
    "T=[[11,3,45,6],[54,3,78,2],[45,23,4,2]]\n",
    "T.insert(2,[5,2])\n",
    "for r in T:\n",
    "    for d in r:\n",
    "        print (d, end=\" \")\n",
    "    print()"
   ]
  },
  {
   "cell_type": "code",
   "execution_count": 8,
   "metadata": {},
   "outputs": [
    {
     "name": "stdout",
     "output_type": "stream",
     "text": [
      "[['Mon' '4' '6' '8' '2']\n",
      " ['Tue' '4' '6' '8' '2']\n",
      " ['Thr' '4' '6' '8' '2']\n",
      " ['Fri' '4' '6' '8' '2']\n",
      " ['Sat' '4' '6' '8' '2']\n",
      " ['Sun' '4' '6' '8' '2']]\n"
     ]
    }
   ],
   "source": [
    "from numpy import*\n",
    "m=array([['Mon',4,6,8,2],['Tue',4,6,8,2],\n",
    "         ['Wed',4,6,8,2],['Thr',4,6,8,2],\n",
    "         ['Fri',4,6,8,2],['Sat',4,6,8,2],\n",
    "         ['Sun',4,6,8,2]])\n",
    "m=delete(m,[2],0)\n",
    "print(m)"
   ]
  },
  {
   "cell_type": "markdown",
   "metadata": {},
   "source": [
    "# Matplotlib & Data Visualizations"
   ]
  },
  {
   "cell_type": "code",
   "execution_count": null,
   "metadata": {},
   "outputs": [],
   "source": []
  }
 ],
 "metadata": {
  "kernelspec": {
   "display_name": "Python 3",
   "language": "python",
   "name": "python3"
  },
  "language_info": {
   "codemirror_mode": {
    "name": "ipython",
    "version": 3
   },
   "file_extension": ".py",
   "mimetype": "text/x-python",
   "name": "python",
   "nbconvert_exporter": "python",
   "pygments_lexer": "ipython3",
   "version": "3.8.5"
  }
 },
 "nbformat": 4,
 "nbformat_minor": 4
}
