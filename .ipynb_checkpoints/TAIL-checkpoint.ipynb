{
 "cells": [
  {
   "cell_type": "code",
   "execution_count": 3,
   "metadata": {},
   "outputs": [],
   "source": [
    "import pandas as pd"
   ]
  },
  {
   "cell_type": "code",
   "execution_count": 11,
   "metadata": {},
   "outputs": [
    {
     "name": "stdout",
     "output_type": "stream",
     "text": [
      "   R&D Spend  Administration  Marketing spend       State  Profit\n",
      "0  5554656.5           18444          54665.5    New York   80647\n",
      "1  6656565.0           12556         656563.0  California   85656\n",
      "2  5565756.4           13544         355455.4     Florida   74640\n",
      "3   576756.9           14447         575656.9    New york   60454\n",
      "4   556577.6           59996         546677.6    New York   76356\n",
      "5   578888.7           88845         546767.7  California   85655\n",
      "6  5765576.9           19956         588876.9     Florida   74657\n",
      "7   556543.8           18836          54665.8    New york   85677\n",
      "8   554659.0           17884         544656.9    New York   78765\n",
      "9  6767567.1           16634         675645.1  California   67768\n"
     ]
    }
   ],
   "source": []
  },
  {
   "cell_type": "code",
   "execution_count": 18,
   "metadata": {
    "scrolled": true
   },
   "outputs": [
    {
     "name": "stdout",
     "output_type": "stream",
     "text": [
      "Number on first fist: 5\n",
      "Number on second fist: 3\n",
      "8 Even player wins\n"
     ]
    }
   ],
   "source": [
    "x=(int(input(\"Number on first fist: \")))\n",
    "y=(int(input(\"Number on second fist: \")))\n",
    "\n",
    "\n",
    "\n",
    "d=x+y\n",
    "if d%2==0:\n",
    "    print(d,\"Even player wins\")\n",
    "else:\n",
    "    print(d,\"Odd player wins\")"
   ]
  },
  {
   "cell_type": "code",
   "execution_count": 19,
   "metadata": {},
   "outputs": [
    {
     "name": "stdout",
     "output_type": "stream",
     "text": [
      "Distance travelled in miles: 50\n",
      "Time in hours: 2\n",
      "25.0 m/h\n"
     ]
    }
   ],
   "source": [
    "Distance=int(input(\"Distance travelled in miles: \"))\n",
    "Time=int(input(\"Time in hours: \"))\n",
    "speed=Distance/Time\n",
    "print (speed,\"m/h\")"
   ]
  },
  {
   "cell_type": "code",
   "execution_count": 27,
   "metadata": {},
   "outputs": [
    {
     "name": "stdout",
     "output_type": "stream",
     "text": [
      "6.936491673103708 3.0635083268962915\n"
     ]
    }
   ],
   "source": [
    "a=1\n",
    "b=-5\n",
    "c=2\n",
    "d=((b-(4*(a*b)))**0.5)\n",
    "e=2*a\n",
    "f=d/e\n",
    "g=-(b)+f\n",
    "h=-(b)-f\n",
    "print (g,h)"
   ]
  },
  {
   "cell_type": "code",
   "execution_count": null,
   "metadata": {},
   "outputs": [],
   "source": []
  }
 ],
 "metadata": {
  "kernelspec": {
   "display_name": "Python 3",
   "language": "python",
   "name": "python3"
  },
  "language_info": {
   "codemirror_mode": {
    "name": "ipython",
    "version": 3
   },
   "file_extension": ".py",
   "mimetype": "text/x-python",
   "name": "python",
   "nbconvert_exporter": "python",
   "pygments_lexer": "ipython3",
   "version": "3.8.5"
  }
 },
 "nbformat": 4,
 "nbformat_minor": 4
}
