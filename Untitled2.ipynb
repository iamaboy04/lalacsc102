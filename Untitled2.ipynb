{
 "cells": [
  {
   "cell_type": "code",
   "execution_count": 10,
   "metadata": {},
   "outputs": [
    {
     "ename": "SyntaxError",
     "evalue": "invalid syntax (<ipython-input-10-7cd210794aca>, line 33)",
     "output_type": "error",
     "traceback": [
      "\u001b[1;36m  File \u001b[1;32m\"<ipython-input-10-7cd210794aca>\"\u001b[1;36m, line \u001b[1;32m33\u001b[0m\n\u001b[1;33m    break\u001b[0m\n\u001b[1;37m    ^\u001b[0m\n\u001b[1;31mSyntaxError\u001b[0m\u001b[1;31m:\u001b[0m invalid syntax\n"
     ]
    }
   ],
   "source": [
    "\n",
    "class XBank:\n",
    "    loggedincounter=0\n",
    "    def __init__(self,theatmpin,theaccountbalance,thename):\n",
    "        self.atmpin=theatmpin\n",
    "        self.accountbalance=theaccountbalance\n",
    "        self.name=thename\n",
    "        \n",
    "    def CollectMoney(self ,amounttowithdraw):\n",
    "        if (amounttowithdraw > self.accountbalnce):\n",
    "            print(\"Sorry we are not able toprocess this at this time\")\n",
    "        else:\n",
    "            print(\"Collect your cash.... Thanks for banking with Xbank\")\n",
    "            \n",
    "    def ChangePin(self, newPin):\n",
    "        self.atmpin=newPin\n",
    "        print(\"Your Pin has been changed ...Thanks for banking with Xbank\")\n",
    "        \n",
    "    @classmethod()\n",
    "    def NoOfCustomersLoggedin(cls):\n",
    "        print(\"we have a total of\" + str(XBank.loggedincounter) + \"that have logged in\")\n",
    "       \n",
    "    f= open(\"C:\\\\Users\\\\SST-LAB\\\\Desktop\\\\databbb.txt\",'r')\n",
    "    #print(f.readline())\n",
    "    password =[]\n",
    "    accountB =[]\n",
    "    name =[]\n",
    "    breaker=[]\n",
    "    for x in f:\n",
    "        breaker=x.split(' ')\n",
    "        password.append(breaker[0])\n",
    "        accountB.append(breaker[1])\n",
    "        name.append(breaker[2]\n",
    "                    .break\n",
    "\n",
    "print(\"enter your pin.....\")\n",
    "pasw=input()\n",
    "if(pasw==password[0]):\n",
    "customer=XBank(password[0],accountB[0],name[0])"
   ]
  },
  {
   "cell_type": "code",
   "execution_count": null,
   "metadata": {},
   "outputs": [],
   "source": [
    "c;"
   ]
  },
  {
   "cell_type": "code",
   "execution_count": null,
   "metadata": {},
   "outputs": [],
   "source": []
  }
 ],
 "metadata": {
  "kernelspec": {
   "display_name": "Python 3",
   "language": "python",
   "name": "python3"
  },
  "language_info": {
   "codemirror_mode": {
    "name": "ipython",
    "version": 3
   },
   "file_extension": ".py",
   "mimetype": "text/x-python",
   "name": "python",
   "nbconvert_exporter": "python",
   "pygments_lexer": "ipython3",
   "version": "3.8.5"
  }
 },
 "nbformat": 4,
 "nbformat_minor": 4
}
